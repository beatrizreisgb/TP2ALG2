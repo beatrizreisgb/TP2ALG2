{
 "cells": [
  {
   "cell_type": "markdown",
   "metadata": {},
   "source": [
    "### Imports"
   ]
  },
  {
   "cell_type": "code",
   "execution_count": 1,
   "metadata": {},
   "outputs": [],
   "source": [
    "import math\n",
    "import matplotlib.pyplot as plt\n",
    "import numpy as np\n",
    "from mpl_toolkits.mplot3d import Axes3D\n"
   ]
  },
  {
   "cell_type": "markdown",
   "metadata": {},
   "source": [
    "### Distância de Minkowski"
   ]
  },
  {
   "cell_type": "code",
   "execution_count": 2,
   "metadata": {},
   "outputs": [],
   "source": [
    "def calculateDist(p1, p2, n):\n",
    "    return ((abs(p1[0] - p2[0])**n) + (abs(p1[1] - p2[1])**n)) ** (1/n)"
   ]
  },
  {
   "cell_type": "markdown",
   "metadata": {},
   "source": [
    "* __Distância Manhattan__ __->__  n = 1\n",
    "\n",
    "* __Distância Euclidiana__ __->__  n = 2\n"
   ]
  },
  {
   "cell_type": "markdown",
   "metadata": {},
   "source": [
    "### Função para vizualização"
   ]
  },
  {
   "cell_type": "markdown",
   "metadata": {},
   "source": [
    "Para pontos em duas dimensões"
   ]
  },
  {
   "cell_type": "code",
   "execution_count": 31,
   "metadata": {},
   "outputs": [],
   "source": [
    "def plotClusters2D(clusters,n):\n",
    "    \n",
    "    plt.figure(figsize=(8, 8))\n",
    "    colors = plt.get_cmap('Set1', len(clusters))  \n",
    "    \n",
    "    for i, cluster in enumerate(clusters):\n",
    "        cluster_points = np.array(cluster)\n",
    "        plt.scatter(cluster_points[:, 0], cluster_points[:, 1], color=colors(i), label=f'Cluster {i + 1}')\n",
    "        \n",
    "        #Centro do cluster\n",
    "        center = np.array(cluster[0])\n",
    "        plt.scatter(center[0], center[1], color='black', marker='x')\n",
    "        \n",
    "        #Raio\n",
    "        max_dist = max([calculateDist(center, p,n) for p in cluster])\n",
    "        circle = plt.Circle(center, max_dist, color=colors(i), fill=False, linestyle='--')\n",
    "        plt.gca().add_patch(circle)\n",
    "        plt.text(center[0], center[1] + max_dist + 0.3, f'Raio: {max_dist:.2f}', color=colors(i), ha='center')\n",
    "    \n",
    "    plt.xlabel('X')\n",
    "    plt.ylabel('Y')\n",
    "    plt.title(f'Clusters')\n",
    "    plt.legend()\n",
    "    plt.grid(True)\n",
    "    plt.axis('equal')\n",
    "    plt.show()\n"
   ]
  },
  {
   "cell_type": "markdown",
   "metadata": {},
   "source": [
    "Para pontos em três dimensões"
   ]
  },
  {
   "cell_type": "code",
   "execution_count": 32,
   "metadata": {},
   "outputs": [],
   "source": [
    "def plotClusters3D(clusters, n):\n",
    "    fig = plt.figure(figsize=(12, 10))\n",
    "    ax = fig.add_subplot(111, projection='3d')\n",
    "    colors = plt.get_cmap('Set1', len(clusters))\n",
    "    \n",
    "    for i, cluster in enumerate(clusters):\n",
    "        cluster_points = np.array(cluster)\n",
    "        ax.scatter(cluster_points[:, 0], cluster_points[:, 1], cluster_points[:, 2], color=colors(i), label=f'Cluster {i + 1}')\n",
    "        \n",
    "        # Centro do cluster\n",
    "        center = np.mean(cluster_points, axis=0)\n",
    "        ax.scatter(center[0], center[1], center[2], color='black', marker='x')\n",
    "        \n",
    "        # Raio\n",
    "        max_dist = max([calculateDist(center, p, n) for p in cluster])\n",
    "        \n",
    "        #Nesse caso temos uma esfera e não circulo\n",
    "        u, v = np.mgrid[0:2*np.pi:20j, 0:np.pi:10j]\n",
    "        x = max_dist * np.cos(u) * np.sin(v) + center[0]\n",
    "        y = max_dist * np.sin(u) * np.sin(v) + center[1]\n",
    "        z = max_dist * np.cos(v) + center[2]\n",
    "        \n",
    "        ax.plot_surface(x, y, z, color=colors(i), alpha=0.3, edgecolor='none')\n",
    "        ax.text(center[0], center[1], center[2] + max_dist + 0.3, f'Raio: {max_dist:.2f}', color=colors(i), ha='center')\n",
    "    \n",
    "    ax.set_xlabel('X')\n",
    "    ax.set_ylabel('Y')\n",
    "    ax.set_zlabel('Z')\n",
    "    ax.set_title('Clusters')\n",
    "    ax.legend()\n",
    "    plt.show()"
   ]
  },
  {
   "cell_type": "markdown",
   "metadata": {},
   "source": [
    "Para várias dimensões a vizualização em gráficos fica inviável"
   ]
  },
  {
   "cell_type": "code",
   "execution_count": null,
   "metadata": {},
   "outputs": [],
   "source": [
    "def printClusters(clusters,n):\n",
    "    \n",
    "    print(f\"Clusters encontrados: {len(clusters)}\")\n",
    "    for i, cluster in enumerate(clusters):\n",
    "        print(f\"Cluster {i + 1}:\")\n",
    "        print(f\"Pontos: {cluster}\")\n",
    "        max_dist = max([calculateDist(cluster[0], p,2) for p in cluster])\n",
    "        print(f\"Raio do Cluster: {max_dist}\")"
   ]
  },
  {
   "cell_type": "markdown",
   "metadata": {},
   "source": [
    "### Primeira versão do algoritmo 2-aproximado"
   ]
  },
  {
   "cell_type": "markdown",
   "metadata": {},
   "source": [
    "Nessa versão  o intervalo para o raio ótimo é refinado até uma largura definida. Primeiramente vamos definir funções auxiliares para conseguir fazer o algoritmo:"
   ]
  },
  {
   "cell_type": "code",
   "execution_count": 37,
   "metadata": {},
   "outputs": [],
   "source": [
    "#Função responsável por determinar se é possível dado um conjunto de pontos achar k clusters de raio maximo 2 rmax\n",
    "\n",
    "def findSolution(pontos, rmax, k,n):\n",
    "    sucess = False\n",
    "    solution = []\n",
    "    clusters = []\n",
    "    pts = pontos[:]\n",
    "    \n",
    "    while pts:\n",
    "        current_p = pts.pop(0)\n",
    "        solution.append(current_p)\n",
    "        cluster = [current_p]\n",
    "        \n",
    "        pts_to_remove = []\n",
    "        for p in pts:\n",
    "            if calculateDist(current_p, p, n) < 2 * rmax:\n",
    "                cluster.append(p)\n",
    "                pts_to_remove.append(p)\n",
    "        \n",
    "        for p in pts_to_remove:\n",
    "            pts.remove(p)\n",
    "        \n",
    "        clusters.append(cluster)\n",
    "    \n",
    "    if len(solution) <= k:\n",
    "        sucess = True\n",
    "    \n",
    "    return sucess, clusters, solution\n"
   ]
  },
  {
   "cell_type": "code",
   "execution_count": 38,
   "metadata": {},
   "outputs": [],
   "source": [
    "#Função que acha a maior distância entre dois pontos\n",
    "\n",
    "def maxDist(pontos,n):\n",
    "    currentMax = 0\n",
    "    for i, p1 in enumerate(pontos):\n",
    "        for j, p2 in enumerate(pontos):\n",
    "            if i != j:\n",
    "                currentDist = calculateDist(p1,p2, 2) \n",
    "                if currentDist > currentMax:\n",
    "                    currentMax = currentDist\n",
    "    return currentMax"
   ]
  },
  {
   "cell_type": "markdown",
   "metadata": {},
   "source": [
    "Agora podemos ir para a implementação do algoritmo em si:"
   ]
  },
  {
   "cell_type": "code",
   "execution_count": 42,
   "metadata": {},
   "outputs": [],
   "source": [
    "def k_clusters_ref(pontos,porcentagem_largura,k_clusters,n_distancia):\n",
    "    limite_superior = maxDist(pontos,n_distancia)\n",
    "    limite_inferior = 0\n",
    "    \n",
    "    largura_total = limite_superior - limite_inferior \n",
    "    \n",
    "    raio = limite_superior/2\n",
    "    \n",
    "    while (limite_superior-limite_inferior) >= (porcentagem_largura*largura_total):\n",
    "        sucess, clusters, solution = findSolution(pontos, raio, k_clusters,n_distancia)\n",
    "        if sucess:\n",
    "            limite_superior = raio\n",
    "            raio = limite_superior/2\n",
    "        else:\n",
    "            limite_inferior = raio\n",
    "            raio = raio + raio/2\n",
    "            \n",
    "    \n",
    "    return sucess, clusters, solution "
   ]
  },
  {
   "cell_type": "code",
   "execution_count": 43,
   "metadata": {},
   "outputs": [],
   "source": [
    "sucess, clusters, solution = k_clusters(pontos,0.25,3,2)"
   ]
  },
  {
   "cell_type": "code",
   "execution_count": 46,
   "metadata": {},
   "outputs": [
    {
     "data": {
      "image/png": "[encoded data removed]",
      "text/plain": [
       "<Figure size 800x800 with 1 Axes>"
      ]
     },
     "metadata": {},
     "output_type": "display_data"
    }
   ],
   "source": [
    "plotClusters2D(clusters,2)"
   ]
  },
  {
   "cell_type": "markdown",
   "metadata": {},
   "source": [
    "### Segunda versão do algoritmo 2-aproximado"
   ]
  },
  {
   "cell_type": "markdown",
   "metadata": {},
   "source": [
    "Nessa os centros são escolhidos para maximizar a distância entre os centros previamente escolhidos"
   ]
  },
  {
   "cell_type": "code",
   "execution_count": null,
   "metadata": {},
   "outputs": [],
   "source": [
    "def maxDist(pontos):\n",
    "    currentMax = 0\n",
    "    for i, p1 in enumerate(pontos):\n",
    "        for j, p2 in enumerate(pontos):\n",
    "            if i != j:\n",
    "                currentDist = calculateDist(p1,p2, 2) \n",
    "                if currentDist > currentMax:\n",
    "                    currentMax = currentDist\n",
    "    return currentMax"
   ]
  },
  {
   "cell_type": "code",
   "execution_count": null,
   "metadata": {},
   "outputs": [],
   "source": [
    "print(maxDist(pontos))\n",
    "max_inicial = maxDist(pontos)\n",
    "rmax = max_inicial/2"
   ]
  },
  {
   "cell_type": "markdown",
   "metadata": {},
   "source": [
    "### Testes"
   ]
  },
  {
   "cell_type": "code",
   "execution_count": 3,
   "metadata": {},
   "outputs": [],
   "source": [
    "pontos = [[6, 3], [-10, -4], [-9, 0], [5, 5], [8, 3], [7, 2], [4, 4], [7, 6], [-8, -2], [2, 5]]"
   ]
  },
  {
   "cell_type": "code",
   "execution_count": 13,
   "metadata": {},
   "outputs": [
    {
     "data": {
      "text/plain": [
       "[<matplotlib.lines.Line2D at 0x7fa0dad39b70>]"
      ]
     },
     "execution_count": 13,
     "metadata": {},
     "output_type": "execute_result"
    },
    {
     "data": {
      "image/png": "[encoded data removed]",
      "text/plain": [
       "<Figure size 640x480 with 1 Axes>"
      ]
     },
     "metadata": {},
     "output_type": "display_data"
    }
   ],
   "source": [
    "ptx = [p[0] for p in pontos]\n",
    "pty = [p[1] for p in pontos]\n",
    "plt.plot(ptx, pty, marker='o', linestyle='None', color='mediumvioletred')"
   ]
  }
 ],
 "metadata": {
  "kernelspec": {
   "display_name": "Python 3",
   "language": "python",
   "name": "python3"
  },
  "language_info": {
   "codemirror_mode": {
    "name": "ipython",
    "version": 3
   },
   "file_extension": ".py",
   "mimetype": "text/x-python",
   "name": "python",
   "nbconvert_exporter": "python",
   "pygments_lexer": "ipython3",
   "version": "3.10.12"
  }
 },
 "nbformat": 4,
 "nbformat_minor": 2
}
