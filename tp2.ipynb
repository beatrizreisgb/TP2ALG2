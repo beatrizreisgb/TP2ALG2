{
 "cells": [
  {
   "cell_type": "code",
   "execution_count": 1,
   "metadata": {},
   "outputs": [],
   "source": [
    "import math\n",
    "\n",
    "pontos = [[6, 3], [-10, -4], [-9, 0], [5, 5], [8, 3], [7, 2], [4, 4], [7, 6], [-8, -2], [2, 5]]\n"
   ]
  },
  {
   "cell_type": "code",
   "execution_count": 2,
   "metadata": {},
   "outputs": [
    {
     "data": {
      "text/plain": [
       "[<matplotlib.lines.Line2D at 0x7fd134110b50>]"
      ]
     },
     "execution_count": 2,
     "metadata": {},
     "output_type": "execute_result"
    },
    {
     "data": {
      "image/png": "[encoded data removed]",
      "text/plain": [
       "<Figure size 640x480 with 1 Axes>"
      ]
     },
     "metadata": {},
     "output_type": "display_data"
    }
   ],
   "source": [
    "import matplotlib.pyplot as plt\n",
    "ptx = [p[0] for p in pontos]\n",
    "pty = [p[1] for p in pontos]\n",
    "plt.plot(ptx, pty, marker='o', linestyle='None', color='mediumvioletred')"
   ]
  },
  {
   "cell_type": "code",
   "execution_count": 3,
   "metadata": {},
   "outputs": [],
   "source": [
    "# distância de Minkowski\n",
    "# n = 1 (manhattan) e n = 2 (euclidiana)\n",
    "def calculateDist(p1, p2, n):\n",
    "    return ((abs(p1[0] - p2[0])**n) + (abs(p1[1] - p2[1])**n)) ** (1/n)"
   ]
  },
  {
   "cell_type": "code",
   "execution_count": 4,
   "metadata": {},
   "outputs": [],
   "source": [
    "def maxDist(pontos):\n",
    "    currentMax = 0\n",
    "    for i, p1 in enumerate(pontos):\n",
    "        for j, p2 in enumerate(pontos):\n",
    "            if i != j:\n",
    "                currentDist = calculateDist(p1,p2, 2) \n",
    "                if currentDist > currentMax:\n",
    "                    currentMax = currentDist\n",
    "    return currentMax"
   ]
  },
  {
   "cell_type": "code",
   "execution_count": 5,
   "metadata": {},
   "outputs": [
    {
     "name": "stdout",
     "output_type": "stream",
     "text": [
      "19.72308292331602\n"
     ]
    }
   ],
   "source": [
    "print(maxDist(pontos))\n",
    "max_inicial = maxDist(pontos)\n",
    "rmax = max_inicial/2"
   ]
  },
  {
   "cell_type": "code",
   "execution_count": 6,
   "metadata": {},
   "outputs": [],
   "source": [
    "k = 2 # quantidade esperada de clusters"
   ]
  },
  {
   "cell_type": "code",
   "execution_count": 7,
   "metadata": {},
   "outputs": [],
   "source": [
    "def findSolution(rmax, k):\n",
    "    solution = []\n",
    "    pts = pontos\n",
    "    while pts != []:\n",
    "        current_p = pts[0]\n",
    "        solution.append(current_p)\n",
    "        del pts[0]\n",
    "        for p in pts:\n",
    "            if calculateDist(current_p, p, 2) < 2*rmax: \n",
    "                del pts[pts.index(p)]\n",
    "                print(pts)\n",
    "\n",
    "    if len(solution) <= k:\n",
    "        return True\n",
    "    return False"
   ]
  }
 ],
 "metadata": {
  "kernelspec": {
   "display_name": "Python 3",
   "language": "python",
   "name": "python3"
  },
  "language_info": {
   "codemirror_mode": {
    "name": "ipython",
    "version": 3
   },
   "file_extension": ".py",
   "mimetype": "text/x-python",
   "name": "python",
   "nbconvert_exporter": "python",
   "pygments_lexer": "ipython3",
   "version": "3.8.10"
  }
 },
 "nbformat": 4,
 "nbformat_minor": 2
}
